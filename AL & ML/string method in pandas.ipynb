{
 "cells": [
  {
   "cell_type": "markdown",
   "id": "9ab4e4ab-325e-485f-aabc-f8f648982551",
   "metadata": {},
   "source": [
    "# string lower\n"
   ]
  },
  {
   "cell_type": "code",
   "execution_count": 2,
   "id": "a6a08db2-a607-47c4-a480-b2b72522695f",
   "metadata": {},
   "outputs": [
    {
     "name": "stdout",
     "output_type": "stream",
     "text": [
      "   Courses    Fee Duration Discount\n",
      "0    SPARK  22000   30days     1000\n",
      "1  PYSPARK  25000   50days     2300\n",
      "2   HADOOP  24000   40days     2500\n",
      "3   PANDAS  26000   60days     1400\n",
      "   Courses    Fee Duration Discount\n",
      "0    spark  22000   30days     1000\n",
      "1  pyspark  25000   50days     2300\n",
      "2   hadoop  24000   40days     2500\n",
      "3   pandas  26000   60days     1400\n",
      "   Courses    Fee Duration Discount\n",
      "0    spark  22000   30days     1000\n",
      "1  pyspark  25000   50days     2300\n",
      "2   hadoop  24000   40days     2500\n",
      "3   pandas  26000   60days     1400\n",
      "   Courses    Fee Duration Discount\n",
      "0    spark  22000   30days     1000\n",
      "1  pyspark  25000   50days     2300\n",
      "2   hadoop  24000   40days     2500\n",
      "3   pandas  26000   60days     1400\n",
      "   Courses    Fee Duration Discount\n",
      "0    spark  22000   30days     1000\n",
      "1  pyspark  25000   50days     2300\n",
      "2   hadoop  24000   40days     2500\n",
      "3   pandas  26000   60days     1400\n"
     ]
    }
   ],
   "source": [
    "import pandas as pd\n",
    "import numpy as np\n",
    "technologies= ({\n",
    "    'Courses':[\"SPARK\",\"PYSPARK\",\"HADOOP\",\"PANDAS\"],\n",
    "    'Fee' :['22000','25000','24000','26000'],\n",
    "    'Duration':['30days','50days','40days','60days'],\n",
    "    'Discount':['1000','2300','2500','1400']\n",
    "              })\n",
    "df = pd.DataFrame(technologies)\n",
    "print(df)\n",
    "\n",
    "# convert lowercase column use str.lower()\n",
    "df['Courses'] = df['Courses'].str.lower()\n",
    "print(df)\n",
    "\n",
    "# convert lowercase column use apply()\n",
    "df['Courses'] = df['Courses'].apply(str.lower)\n",
    "print(df)\n",
    "\n",
    "# Use apply() & lambda function\n",
    "df['Courses'].apply(lambda x: x.lower())\n",
    "print(df)\n",
    "\n",
    "# Convert pandas column to lowercase use map()\n",
    "df['Courses'] = df['Courses'].map(str.lower)\n",
    "print(df)\n"
   ]
  },
  {
   "cell_type": "markdown",
   "id": "873b9c0d-25a0-423c-82b1-79f265f48359",
   "metadata": {},
   "source": [
    "# string upper()\n"
   ]
  },
  {
   "cell_type": "code",
   "execution_count": 2,
   "id": "c75e81a8-30c6-41ab-9e30-2a98e7a9cf49",
   "metadata": {},
   "outputs": [
    {
     "name": "stdout",
     "output_type": "stream",
     "text": [
      "   Courses    Fee Duration Discount\n",
      "0    SPARK  22000   30days     1000\n",
      "1  PYSPARK  25000   50days     2300\n",
      "2   HADOOP  24000   40days     2500\n",
      "3   PANDAS  26000   60days     1400\n",
      "   Courses    Fee Duration Discount\n",
      "0    SPARK  22000   30DAYS     1000\n",
      "1  PYSPARK  25000   50DAYS     2300\n",
      "2   HADOOP  24000   40DAYS     2500\n",
      "3   PANDAS  26000   60DAYS     1400\n"
     ]
    }
   ],
   "source": [
    "technologies= ({\n",
    "    'Courses':[\"SPARK\",\"PYSPARK\",\"HADOOP\",\"PANDAS\"],\n",
    "    'Fee' :['22000','25000','24000','26000'],\n",
    "    'Duration':['30days','50days','40days','60days'],\n",
    "    'Discount':['1000','2300','2500','1400']\n",
    "              })\n",
    "df = pd.DataFrame(technologies)\n",
    "print(df)\n",
    "\n",
    "# convert uppercase column use str.upper()\n",
    "df['Duration'] = df['Duration'].str.upper()\n",
    "print(df)"
   ]
  },
  {
   "cell_type": "markdown",
   "id": "0893a0ac-0fd8-4122-9169-847ffc39ce3d",
   "metadata": {},
   "source": [
    "# string length()"
   ]
  },
  {
   "cell_type": "code",
   "execution_count": 3,
   "id": "703608ed-2590-4aa1-ae95-b5ebc476fb60",
   "metadata": {},
   "outputs": [
    {
     "name": "stdout",
     "output_type": "stream",
     "text": [
      "   Courses    Fee Duration Discount\n",
      "0    SPARK  22000   30days     1000\n",
      "1  PYSPARK  25000   50days     2300\n",
      "2   HADOOP  24000   40days     2500\n",
      "3   PANDAS  26000   60days     1400\n",
      "   Courses    Fee Duration Discount  length\n",
      "0    SPARK  22000   30days     1000       6\n",
      "1  PYSPARK  25000   50days     2300       6\n",
      "2   HADOOP  24000   40days     2500       6\n",
      "3   PANDAS  26000   60days     1400       6\n"
     ]
    }
   ],
   "source": [
    "technologies= ({\n",
    "    'Courses':[\"SPARK\",\"PYSPARK\",\"HADOOP\",\"PANDAS\"],\n",
    "    'Fee' :['22000','25000','24000','26000'],\n",
    "    'Duration':['30days','50days','40days','60days'],\n",
    "    'Discount':['1000','2300','2500','1400']\n",
    "              })\n",
    "df = pd.DataFrame(technologies)\n",
    "print(df)\n",
    "\n",
    "# find length\n",
    "df['length'] = df['Duration'].str.len()\n",
    "print(df)"
   ]
  },
  {
   "cell_type": "code",
   "execution_count": 4,
   "id": "5362c411-4200-41c1-b387-43586acde8cd",
   "metadata": {},
   "outputs": [
    {
     "data": {
      "text/html": [
       "<div>\n",
       "<style scoped>\n",
       "    .dataframe tbody tr th:only-of-type {\n",
       "        vertical-align: middle;\n",
       "    }\n",
       "\n",
       "    .dataframe tbody tr th {\n",
       "        vertical-align: top;\n",
       "    }\n",
       "\n",
       "    .dataframe thead th {\n",
       "        text-align: right;\n",
       "    }\n",
       "</style>\n",
       "<table border=\"1\" class=\"dataframe\">\n",
       "  <thead>\n",
       "    <tr style=\"text-align: right;\">\n",
       "      <th></th>\n",
       "      <th>age</th>\n",
       "      <th>name</th>\n",
       "      <th>length</th>\n",
       "    </tr>\n",
       "  </thead>\n",
       "  <tbody>\n",
       "    <tr>\n",
       "      <th>0</th>\n",
       "      <td>15</td>\n",
       "      <td>Sample</td>\n",
       "      <td>6</td>\n",
       "    </tr>\n",
       "    <tr>\n",
       "      <th>1</th>\n",
       "      <td>17</td>\n",
       "      <td>New User</td>\n",
       "      <td>8</td>\n",
       "    </tr>\n",
       "    <tr>\n",
       "      <th>2</th>\n",
       "      <td>20</td>\n",
       "      <td>My Name</td>\n",
       "      <td>7</td>\n",
       "    </tr>\n",
       "    <tr>\n",
       "      <th>3</th>\n",
       "      <td>14</td>\n",
       "      <td>Jane Doe</td>\n",
       "      <td>8</td>\n",
       "    </tr>\n",
       "    <tr>\n",
       "      <th>4</th>\n",
       "      <td>25</td>\n",
       "      <td>John Doe</td>\n",
       "      <td>8</td>\n",
       "    </tr>\n",
       "  </tbody>\n",
       "</table>\n",
       "</div>"
      ],
      "text/plain": [
       "   age      name  length\n",
       "0   15    Sample       6\n",
       "1   17  New User       8\n",
       "2   20   My Name       7\n",
       "3   14  Jane Doe       8\n",
       "4   25  John Doe       8"
      ]
     },
     "execution_count": 4,
     "metadata": {},
     "output_type": "execute_result"
    }
   ],
   "source": [
    "import pandas as pd\n",
    "\n",
    "data = pd.DataFrame({\n",
    "\n",
    "    'age' : [15, 17, 20, 14, 25],\n",
    "\n",
    "    'name': [\"Sample\", \"New User\", \"My Name\", \"Jane Doe\", \"John Doe\"]\n",
    "\n",
    "})\n",
    "\n",
    "data['length']=data['name'].str.len()\n",
    "data"
   ]
  },
  {
   "cell_type": "markdown",
   "id": "701bbedc-5b2a-4d84-93f1-f029f93ae7b8",
   "metadata": {},
   "source": [
    "# str.strip()\n"
   ]
  },
  {
   "cell_type": "code",
   "execution_count": 5,
   "id": "8afafdf3-edee-4fe9-8f2c-f77464c83e39",
   "metadata": {},
   "outputs": [
    {
     "name": "stdout",
     "output_type": "stream",
     "text": [
      "0             \n",
      "1    2. Dog!\\n\n",
      "2    3. fox?\\t\n",
      "3          NaN\n",
      "dtype: object\n"
     ]
    }
   ],
   "source": [
    "import numpy as np\n",
    "import pandas as pd\n",
    "s = pd.Series(['1. Bat.  ', '2. Dog!\\n', '3. fox?\\t', np.nan])\n",
    "print(s.str.strip('1. Bat'))"
   ]
  },
  {
   "cell_type": "markdown",
   "id": "409c0fc5-ee82-400f-8149-8e90aa57a07a",
   "metadata": {},
   "source": [
    "# str.lstrip()"
   ]
  },
  {
   "cell_type": "code",
   "execution_count": 6,
   "id": "70c0e77e-e3a8-4f8f-b767-7e7da261ab04",
   "metadata": {},
   "outputs": [
    {
     "name": "stdout",
     "output_type": "stream",
     "text": [
      "     Courses    Fee Duration Discount\n",
      "0     SPARK   22000   30days     1000\n",
      "1   PYSPARK   25000   50days     2300\n",
      "2    HADOOP   24000   40days     2500\n",
      "3    PANDAS   26000   60days     1400\n",
      "     Courses    Fee Duration Discount\n",
      "0     SPARK   22000   30days     1000\n",
      "1   PYSPARK   25000   50days     2300\n",
      "2    HADOOP   24000   40days     2500\n",
      "3    PANDAS   26000   60days     1400\n",
      " SPARK \n"
     ]
    }
   ],
   "source": [
    "technologies= ({\n",
    "    'Courses':[\" SPARK \",\" PYSPARK \",\" HADOOP \",\" PANDAS \"],\n",
    "    'Fee' :['22000','25000','24000','26000'],\n",
    "    'Duration':['30days','50days','40days','60days'],\n",
    "    'Discount':['1000','2300','2500','1400']\n",
    "              })\n",
    "df = pd.DataFrame(technologies)\n",
    "print(df)\n",
    "\n",
    "# convert uppercase column use str.upper()\n",
    "df['Duration'] = df['Duration'].str.lstrip()\n",
    "print(df)\n",
    "print(df['Courses'][0])\n"
   ]
  },
  {
   "cell_type": "code",
   "execution_count": 7,
   "id": "af584c3d-0e48-45c0-9353-24a4fa485fa5",
   "metadata": {},
   "outputs": [
    {
     "name": "stdout",
     "output_type": "stream",
     "text": [
      "     Courses    Fee Duration Discount\n",
      "0     SPARK   22000   30days     1000\n",
      "1   PYSPARK   25000   50days     2300\n",
      "2    HADOOP   24000   40days     2500\n",
      "3    PANDAS   26000   60days     1400\n",
      "     Courses    Fee Duration Discount\n",
      "0     SPARK   22000   30days     1000\n",
      "1   PYSPARK   25000   50days     2300\n",
      "2    HADOOP   24000   40days     2500\n",
      "3    PANDAS   26000   60days     1400\n",
      " SPARK \n"
     ]
    }
   ],
   "source": [
    "technologies= ({\n",
    "    'Courses':[\" SPARK \",\" PYSPARK \",\" HADOOP \",\" PANDAS \"],\n",
    "    'Fee' :['22000','25000','24000','26000'],\n",
    "    'Duration':['30days','50days','40days','60days'],\n",
    "    'Discount':['1000','2300','2500','1400']\n",
    "              })\n",
    "df = pd.DataFrame(technologies)\n",
    "print(df)\n",
    "\n",
    "# convert uppercase column use str.upper()\n",
    "df['Duration'] = df['Duration'].str.rstrip()\n",
    "print(df)\n",
    "print(df['Courses'][0])"
   ]
  },
  {
   "cell_type": "markdown",
   "id": "9bbdcaba-0ffe-4f6b-a2e7-0b7038c0090c",
   "metadata": {},
   "source": [
    "# s.str.split()"
   ]
  },
  {
   "cell_type": "code",
   "execution_count": 8,
   "id": "968227c3-2ad6-4dce-a38d-c2807b0ffc8b",
   "metadata": {},
   "outputs": [
    {
     "data": {
      "text/plain": [
       "['one', 'two', 'three']"
      ]
     },
     "execution_count": 8,
     "metadata": {},
     "output_type": "execute_result"
    }
   ],
   "source": [
    "\n",
    "\n",
    "import numpy as np\n",
    "import pandas as pd\n",
    "s = \"one,two,three\"\n",
    "x=s.split(',')\n",
    "x"
   ]
  },
  {
   "cell_type": "markdown",
   "id": "eef5f7ea-9ef5-4d90-919d-5991984ecfdc",
   "metadata": {},
   "source": [
    "# str.contains()"
   ]
  },
  {
   "cell_type": "code",
   "execution_count": 9,
   "id": "e9ef3bd7-09f8-4878-9ad8-420655f2c0d4",
   "metadata": {},
   "outputs": [
    {
     "name": "stdout",
     "output_type": "stream",
     "text": [
      "     Courses    Fee Duration Discount\n",
      "0     SPARK   22000   30days     1000\n",
      "1   PYSPARK   25000   50days     2300\n",
      "2    HADOOP   24000   40days     2500\n",
      "3    PANDAS   26000   60days     1400\n"
     ]
    },
    {
     "data": {
      "text/plain": [
       "0     True\n",
       "1     True\n",
       "2    False\n",
       "3     True\n",
       "Name: Courses, dtype: bool"
      ]
     },
     "execution_count": 9,
     "metadata": {},
     "output_type": "execute_result"
    }
   ],
   "source": [
    "technologies= ({\n",
    "    'Courses':[\" SPARK \",\" PYSPARK \",\" HADOOP \",\" PANDAS \"],\n",
    "    'Fee' :['22000','25000','24000','26000'],\n",
    "    'Duration':['30days','50days','40days','60days'],\n",
    "    'Discount':['1000','2300','2500','1400']\n",
    "              })\n",
    "df = pd.DataFrame(technologies)\n",
    "print(df)\n",
    "\n",
    "df['Courses'].str.contains('PA')"
   ]
  },
  {
   "cell_type": "markdown",
   "id": "f469f9af-2374-4d88-9a21-a661fc793c27",
   "metadata": {},
   "source": [
    "# str.replace()"
   ]
  },
  {
   "cell_type": "code",
   "execution_count": 22,
   "id": "f6d6c0db-3275-42ca-86ff-f65496589f27",
   "metadata": {},
   "outputs": [
    {
     "name": "stdout",
     "output_type": "stream",
     "text": [
      "     Courses    Fee Duration Discount\n",
      "0     SPARK   22000   30days     1000\n",
      "1   PYSPARK   25000   50days     2300\n",
      "2    HADOOP   24000   40days     2500\n",
      "3    PANDAS   26000   60days     1400\n"
     ]
    },
    {
     "data": {
      "text/html": [
       "<div>\n",
       "<style scoped>\n",
       "    .dataframe tbody tr th:only-of-type {\n",
       "        vertical-align: middle;\n",
       "    }\n",
       "\n",
       "    .dataframe tbody tr th {\n",
       "        vertical-align: top;\n",
       "    }\n",
       "\n",
       "    .dataframe thead th {\n",
       "        text-align: right;\n",
       "    }\n",
       "</style>\n",
       "<table border=\"1\" class=\"dataframe\">\n",
       "  <thead>\n",
       "    <tr style=\"text-align: right;\">\n",
       "      <th></th>\n",
       "      <th>Courses</th>\n",
       "      <th>Fee</th>\n",
       "      <th>Duration</th>\n",
       "      <th>Discount</th>\n",
       "    </tr>\n",
       "  </thead>\n",
       "  <tbody>\n",
       "    <tr>\n",
       "      <th>0</th>\n",
       "      <td>NUMPY</td>\n",
       "      <td>22000</td>\n",
       "      <td>30days</td>\n",
       "      <td>1000</td>\n",
       "    </tr>\n",
       "    <tr>\n",
       "      <th>1</th>\n",
       "      <td>PYSPARK</td>\n",
       "      <td>25000</td>\n",
       "      <td>50days</td>\n",
       "      <td>2300</td>\n",
       "    </tr>\n",
       "    <tr>\n",
       "      <th>2</th>\n",
       "      <td>HADOOP</td>\n",
       "      <td>24000</td>\n",
       "      <td>40days</td>\n",
       "      <td>2500</td>\n",
       "    </tr>\n",
       "    <tr>\n",
       "      <th>3</th>\n",
       "      <td>PANDAS</td>\n",
       "      <td>26000</td>\n",
       "      <td>60days</td>\n",
       "      <td>1400</td>\n",
       "    </tr>\n",
       "  </tbody>\n",
       "</table>\n",
       "</div>"
      ],
      "text/plain": [
       "     Courses    Fee Duration Discount\n",
       "0      NUMPY  22000   30days     1000\n",
       "1   PYSPARK   25000   50days     2300\n",
       "2    HADOOP   24000   40days     2500\n",
       "3    PANDAS   26000   60days     1400"
      ]
     },
     "execution_count": 22,
     "metadata": {},
     "output_type": "execute_result"
    }
   ],
   "source": [
    "technologies= ({\n",
    "    'Courses':[\" SPARK \",\" PYSPARK \",\" HADOOP \",\" PANDAS \"],\n",
    "    'Fee' :['22000','25000','24000','26000'],\n",
    "    'Duration':['30days','50days','40days','60days'],\n",
    "    'Discount':['1000','2300','2500','1400']\n",
    "              })\n",
    "df = pd.DataFrame(technologies)\n",
    "print(df)\n",
    "\n",
    "df.replace(\" SPARK \",\"NUMPY\",inplace=True)\n",
    "df\n",
    "\n"
   ]
  },
  {
   "cell_type": "markdown",
   "id": "6d24ceea-5fef-4b59-ab0d-20b4df43fe78",
   "metadata": {},
   "source": [
    "# str.startswith()"
   ]
  },
  {
   "cell_type": "code",
   "execution_count": 23,
   "id": "6608b2d8-c19e-40e0-a3c4-e64965bf6299",
   "metadata": {},
   "outputs": [
    {
     "name": "stdout",
     "output_type": "stream",
     "text": [
      "True\n"
     ]
    }
   ],
   "source": [
    "var = \"Simran preet kaur\"\n",
    " \n",
    "print(var.startswith(\"Simran\"))"
   ]
  },
  {
   "cell_type": "markdown",
   "id": "4ffbb323-1d10-4496-9e33-2e1160f4211d",
   "metadata": {},
   "source": [
    "# str.endswith()"
   ]
  },
  {
   "cell_type": "code",
   "execution_count": 25,
   "id": "e37efd7a-650a-4b9d-81c7-31094d2854fa",
   "metadata": {},
   "outputs": [
    {
     "name": "stdout",
     "output_type": "stream",
     "text": [
      "False\n"
     ]
    }
   ],
   "source": [
    "var1=\"simran preet kaur\"\n",
    "print(var.endswith(\"kau\"))"
   ]
  },
  {
   "cell_type": "markdown",
   "id": "f196d4a9-5e67-4977-a90e-1d569d4a0e87",
   "metadata": {},
   "source": [
    "# str.cat()"
   ]
  },
  {
   "cell_type": "code",
   "execution_count": 26,
   "id": "ca51772f-fe15-4666-857b-23e2cb451772",
   "metadata": {},
   "outputs": [
    {
     "name": "stdout",
     "output_type": "stream",
     "text": [
      "     Courses    Fee Duration Discount\n",
      "0     SPARK   22000   30days     1000\n",
      "1   PYSPARK   25000   50days     2300\n",
      "2    HADOOP   24000   40days     2500\n",
      "3    PANDAS   26000   60days     1400\n"
     ]
    },
    {
     "data": {
      "text/html": [
       "<div>\n",
       "<style scoped>\n",
       "    .dataframe tbody tr th:only-of-type {\n",
       "        vertical-align: middle;\n",
       "    }\n",
       "\n",
       "    .dataframe tbody tr th {\n",
       "        vertical-align: top;\n",
       "    }\n",
       "\n",
       "    .dataframe thead th {\n",
       "        text-align: right;\n",
       "    }\n",
       "</style>\n",
       "<table border=\"1\" class=\"dataframe\">\n",
       "  <thead>\n",
       "    <tr style=\"text-align: right;\">\n",
       "      <th></th>\n",
       "      <th>Courses</th>\n",
       "      <th>Fee</th>\n",
       "      <th>Duration</th>\n",
       "      <th>Discount</th>\n",
       "    </tr>\n",
       "  </thead>\n",
       "  <tbody>\n",
       "    <tr>\n",
       "      <th>0</th>\n",
       "      <td>SPARK</td>\n",
       "      <td>22000,30days</td>\n",
       "      <td>30days</td>\n",
       "      <td>1000</td>\n",
       "    </tr>\n",
       "    <tr>\n",
       "      <th>1</th>\n",
       "      <td>PYSPARK</td>\n",
       "      <td>25000,50days</td>\n",
       "      <td>50days</td>\n",
       "      <td>2300</td>\n",
       "    </tr>\n",
       "    <tr>\n",
       "      <th>2</th>\n",
       "      <td>HADOOP</td>\n",
       "      <td>24000,40days</td>\n",
       "      <td>40days</td>\n",
       "      <td>2500</td>\n",
       "    </tr>\n",
       "    <tr>\n",
       "      <th>3</th>\n",
       "      <td>PANDAS</td>\n",
       "      <td>26000,60days</td>\n",
       "      <td>60days</td>\n",
       "      <td>1400</td>\n",
       "    </tr>\n",
       "  </tbody>\n",
       "</table>\n",
       "</div>"
      ],
      "text/plain": [
       "     Courses           Fee Duration Discount\n",
       "0     SPARK   22000,30days   30days     1000\n",
       "1   PYSPARK   25000,50days   50days     2300\n",
       "2    HADOOP   24000,40days   40days     2500\n",
       "3    PANDAS   26000,60days   60days     1400"
      ]
     },
     "execution_count": 26,
     "metadata": {},
     "output_type": "execute_result"
    }
   ],
   "source": [
    "technologies= ({\n",
    "    'Courses':[\" SPARK \",\" PYSPARK \",\" HADOOP \",\" PANDAS \"],\n",
    "    'Fee' :['22000','25000','24000','26000'],\n",
    "    'Duration':['30days','50days','40days','60days'],\n",
    "    'Discount':['1000','2300','2500','1400']\n",
    "              })\n",
    "df = pd.DataFrame(technologies)\n",
    "print(df)\n",
    "new = df['Duration'].copy()\n",
    "df['Fee']=df['Fee'].str.cat(new,sep=\",\")\n",
    "df"
   ]
  },
  {
   "cell_type": "markdown",
   "id": "346f8cbf-bbf8-4638-8139-f556eb9fbbcc",
   "metadata": {},
   "source": [
    "# str.get()"
   ]
  },
  {
   "cell_type": "code",
   "execution_count": 17,
   "id": "56b9ddf2-e63d-40a0-892a-ac156e817bee",
   "metadata": {},
   "outputs": [
    {
     "name": "stdout",
     "output_type": "stream",
     "text": [
      "     Courses    Fee Duration Discount\n",
      "0     SPARK   22000   30days     1000\n",
      "1   PYSPARK   25000   50days     2300\n",
      "2    HADOOP   24000   40days     2500\n",
      "3    PANDAS   26000   60days     1400\n"
     ]
    },
    {
     "data": {
      "text/plain": [
       "0    P\n",
       "1    Y\n",
       "2    A\n",
       "3    A\n",
       "Name: Courses, dtype: object"
      ]
     },
     "execution_count": 17,
     "metadata": {},
     "output_type": "execute_result"
    }
   ],
   "source": [
    "technologies= ({\n",
    "    'Courses':[\" SPARK \",\" PYSPARK \",\" HADOOP \",\" PANDAS \"],\n",
    "    'Fee' :['22000','25000','24000','26000'],\n",
    "    'Duration':['30days','50days','40days','60days'],\n",
    "    'Discount':['1000','2300','2500','1400']\n",
    "              })\n",
    "df = pd.DataFrame(technologies)\n",
    "print(df)\n",
    "df['Courses'].str.get(2)"
   ]
  },
  {
   "cell_type": "markdown",
   "id": "044e57c8-3060-4c0a-ab55-567abcea9eb3",
   "metadata": {},
   "source": [
    "# str.slice()"
   ]
  },
  {
   "cell_type": "code",
   "execution_count": 18,
   "id": "d5b3b3a6-7dc2-4c28-832b-2157d7b3361e",
   "metadata": {},
   "outputs": [
    {
     "name": "stdout",
     "output_type": "stream",
     "text": [
      "     Courses    Fee Duration Discount\n",
      "0     SPARK   22000   30days     1000\n",
      "1   PYSPARK   25000   50days     2300\n",
      "2    HADOOP   24000   40days     2500\n",
      "3    PANDAS   26000   60days     1400\n"
     ]
    },
    {
     "data": {
      "text/plain": [
       "0     PR\n",
       "1    YPR\n",
       "2     AO\n",
       "3     AD\n",
       "Name: Courses, dtype: object"
      ]
     },
     "execution_count": 18,
     "metadata": {},
     "output_type": "execute_result"
    }
   ],
   "source": [
    "technologies= ({\n",
    "    'Courses':[\" SPARK \",\" PYSPARK \",\" HADOOP \",\" PANDAS \"],\n",
    "    'Fee' :['22000','25000','24000','26000'],\n",
    "    'Duration':['30days','50days','40days','60days'],\n",
    "    'Discount':['1000','2300','2500','1400']\n",
    "              })\n",
    "df = pd.DataFrame(technologies)\n",
    "print(df)\n",
    "df[\"Courses\"].str.slice(2,-2,2)\n"
   ]
  },
  {
   "cell_type": "markdown",
   "id": "05e085ce-16e6-412b-b776-52c6cfb2cd4f",
   "metadata": {},
   "source": [
    "# str.find()"
   ]
  },
  {
   "cell_type": "code",
   "execution_count": 20,
   "id": "8b075aa7-7328-4135-9b6c-e5a6cd585476",
   "metadata": {},
   "outputs": [
    {
     "name": "stdout",
     "output_type": "stream",
     "text": [
      "     Courses    Fee Duration Discount\n",
      "0     SPARK   22000   30days     1000\n",
      "1   PYSPARK   25000   50days     2300\n",
      "2    HADOOP   24000   40days     2500\n",
      "3    PANDAS   26000   60days     1400\n",
      "7\n"
     ]
    }
   ],
   "source": [
    "technologies= ({\n",
    "    'Courses':[\" SPARK \",\" PYSPARK \",\" HADOOP \",\" PANDAS \"],\n",
    "    'Fee' :['22000','25000','24000','26000'],\n",
    "    'Duration':['30days','50days','40days','60days'],\n",
    "    'Discount':['1000','2300','2500','1400']\n",
    "              })\n",
    "df = pd.DataFrame(technologies)\n",
    "print(df)\n",
    "string = \" hello world is the first code of every programmer\"\n",
    "print(string.find(\"world\"))\n"
   ]
  },
  {
   "cell_type": "code",
   "execution_count": null,
   "id": "f2200cdc-f981-4b07-8de2-98b134c6768e",
   "metadata": {},
   "outputs": [],
   "source": []
  }
 ],
 "metadata": {
  "kernelspec": {
   "display_name": "Python 3 (ipykernel)",
   "language": "python",
   "name": "python3"
  },
  "language_info": {
   "codemirror_mode": {
    "name": "ipython",
    "version": 3
   },
   "file_extension": ".py",
   "mimetype": "text/x-python",
   "name": "python",
   "nbconvert_exporter": "python",
   "pygments_lexer": "ipython3",
   "version": "3.12.1"
  }
 },
 "nbformat": 4,
 "nbformat_minor": 5
}
